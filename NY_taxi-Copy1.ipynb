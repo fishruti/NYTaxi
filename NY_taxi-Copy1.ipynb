{
 "cells": [
  {
   "cell_type": "code",
   "execution_count": 277,
   "metadata": {
    "collapsed": true
   },
   "outputs": [],
   "source": [
    "# Artificial Neural Network\n",
    "\n",
    "import numpy as np\n",
    "import matplotlib.pyplot as plt\n",
    "import pandas as pd\n",
    "import seaborn as sns\n",
    "\n",
    "# Importing the dataset\n",
    "train = pd.read_csv('train.csv')\n",
    "test = pd.read_csv('test.csv')"
   ]
  },
  {
   "cell_type": "code",
   "execution_count": 278,
   "metadata": {
    "collapsed": true
   },
   "outputs": [],
   "source": [
    "train.drop(['dropoff_datetime'], axis = 1, inplace=True)\n"
   ]
  },
  {
   "cell_type": "code",
   "execution_count": 215,
   "metadata": {},
   "outputs": [
    {
     "data": {
      "text/html": [
       "<div>\n",
       "<style>\n",
       "    .dataframe thead tr:only-child th {\n",
       "        text-align: right;\n",
       "    }\n",
       "\n",
       "    .dataframe thead th {\n",
       "        text-align: left;\n",
       "    }\n",
       "\n",
       "    .dataframe tbody tr th {\n",
       "        vertical-align: top;\n",
       "    }\n",
       "</style>\n",
       "<table border=\"1\" class=\"dataframe\">\n",
       "  <thead>\n",
       "    <tr style=\"text-align: right;\">\n",
       "      <th></th>\n",
       "      <th>pickup_longitude</th>\n",
       "      <th>pickup_latitude</th>\n",
       "      <th>dropoff_longitude</th>\n",
       "      <th>dropoff_latitude</th>\n",
       "      <th>pickup_long_round</th>\n",
       "      <th>pickup_lat_round</th>\n",
       "      <th>dropoff_long_round</th>\n",
       "      <th>dropoff_lat_round</th>\n",
       "    </tr>\n",
       "  </thead>\n",
       "  <tbody>\n",
       "    <tr>\n",
       "      <th>657251</th>\n",
       "      <td>-73.947258</td>\n",
       "      <td>40.779968</td>\n",
       "      <td>-73.953255</td>\n",
       "      <td>40.778561</td>\n",
       "      <td>-73.95</td>\n",
       "      <td>40.78</td>\n",
       "      <td>-73.95</td>\n",
       "      <td>40.78</td>\n",
       "    </tr>\n",
       "    <tr>\n",
       "      <th>69199</th>\n",
       "      <td>-73.990585</td>\n",
       "      <td>40.760891</td>\n",
       "      <td>-73.919701</td>\n",
       "      <td>40.743172</td>\n",
       "      <td>-73.99</td>\n",
       "      <td>40.76</td>\n",
       "      <td>-73.92</td>\n",
       "      <td>40.74</td>\n",
       "    </tr>\n",
       "    <tr>\n",
       "      <th>642385</th>\n",
       "      <td>-73.987358</td>\n",
       "      <td>40.743095</td>\n",
       "      <td>-73.956955</td>\n",
       "      <td>40.771610</td>\n",
       "      <td>-73.99</td>\n",
       "      <td>40.74</td>\n",
       "      <td>-73.96</td>\n",
       "      <td>40.77</td>\n",
       "    </tr>\n",
       "    <tr>\n",
       "      <th>1197612</th>\n",
       "      <td>-73.983627</td>\n",
       "      <td>40.744091</td>\n",
       "      <td>-73.989227</td>\n",
       "      <td>40.735851</td>\n",
       "      <td>-73.98</td>\n",
       "      <td>40.74</td>\n",
       "      <td>-73.99</td>\n",
       "      <td>40.74</td>\n",
       "    </tr>\n",
       "    <tr>\n",
       "      <th>401031</th>\n",
       "      <td>-74.008591</td>\n",
       "      <td>40.711494</td>\n",
       "      <td>-73.776367</td>\n",
       "      <td>40.645271</td>\n",
       "      <td>-74.01</td>\n",
       "      <td>40.71</td>\n",
       "      <td>-73.78</td>\n",
       "      <td>40.65</td>\n",
       "    </tr>\n",
       "  </tbody>\n",
       "</table>\n",
       "</div>"
      ],
      "text/plain": [
       "         pickup_longitude  pickup_latitude  dropoff_longitude  \\\n",
       "657251         -73.947258        40.779968         -73.953255   \n",
       "69199          -73.990585        40.760891         -73.919701   \n",
       "642385         -73.987358        40.743095         -73.956955   \n",
       "1197612        -73.983627        40.744091         -73.989227   \n",
       "401031         -74.008591        40.711494         -73.776367   \n",
       "\n",
       "         dropoff_latitude  pickup_long_round  pickup_lat_round  \\\n",
       "657251          40.778561             -73.95             40.78   \n",
       "69199           40.743172             -73.99             40.76   \n",
       "642385          40.771610             -73.99             40.74   \n",
       "1197612         40.735851             -73.98             40.74   \n",
       "401031          40.645271             -74.01             40.71   \n",
       "\n",
       "         dropoff_long_round  dropoff_lat_round  \n",
       "657251               -73.95              40.78  \n",
       "69199                -73.92              40.74  \n",
       "642385               -73.96              40.77  \n",
       "1197612              -73.99              40.74  \n",
       "401031               -73.78              40.65  "
      ]
     },
     "execution_count": 215,
     "metadata": {},
     "output_type": "execute_result"
    }
   ],
   "source": [
    "train[['pickup_longitude','pickup_latitude','dropoff_longitude','dropoff_latitude', 'pickup_long_round', 'pickup_lat_round', 'dropoff_long_round','dropoff_lat_round']].head(5)"
   ]
  },
  {
   "cell_type": "code",
   "execution_count": 279,
   "metadata": {},
   "outputs": [],
   "source": [
    "dataset = train\n",
    "dataset.loc[:, 'pickup_datetime'] = pd.to_datetime(dataset['pickup_datetime'])\n",
    "dataset.loc[:, 'month'] = dataset.pickup_datetime.dt.month\n",
    "dataset.loc[:, 'hour'] = dataset.pickup_datetime.dt.hour\n",
    "dataset.loc[:, 'weekday'] = dataset.pickup_datetime.dt.weekday\n",
    "dataset.loc[:, 'day'] = dataset.pickup_datetime.dt.day\n",
    "dataset.loc[:, 'quarter'] = np.ceil((dataset.pickup_datetime.dt.minute)/15)\n",
    "\n",
    "\n",
    "# convert some of the numerical data to categories\n",
    "dataset.loc[:, 'store_and_fwd_flag'] = dataset['store_and_fwd_flag'].replace(to_replace = ['N', 'Y'], value = [0,1])\n",
    "dataset.loc[:, 'passenger_count'] = dataset['passenger_count'].replace(to_replace= [0,1,2,3,4,5,6,7,8,9], value = ['a', 'b', 'c' \\\n",
    "                                                                                                                  , 'd', 'e', 'f', 'g',\\\n",
    "                                                                                                                  'h', 'i', 'j'])"
   ]
  },
  {
   "cell_type": "code",
   "execution_count": 280,
   "metadata": {
    "collapsed": true
   },
   "outputs": [],
   "source": [
    "import math\n",
    "\n",
    "dataset.loc[:, 'manhattan_dist'] = abs(dataset['pickup_latitude'].values - dataset['dropoff_latitude'].values) + \\\n",
    "abs(dataset['pickup_longitude'] - dataset['dropoff_longitude'])*6371*math.pi/180.0\n",
    "dataset.loc[:, 'manhattan_speed'] = dataset['manhattan_dist'].values*3600/(dataset['trip_duration'].values) \n",
    "# km/hour\n"
   ]
  },
  {
   "cell_type": "code",
   "execution_count": null,
   "metadata": {
    "collapsed": true
   },
   "outputs": [],
   "source": [
    "# direction of movement\n",
    "import math\n",
    "from numpy import cos, deg2rad\n",
    "dataset.loc[:, 'direction'] = (np.arctan(np.sqrt(1 + cos(deg2rad(dataset['dropoff_latitude'].values-dataset['pickup_latitude'].values)))/ \\\n",
    "np.sqrt(1 + cos(deg2rad(dataset['dropoff_longitude'].values - dataset['pickup_latitude'].values)))))*180.0/math.pi"
   ]
  },
  {
   "cell_type": "code",
   "execution_count": 281,
   "metadata": {
    "collapsed": true
   },
   "outputs": [],
   "source": [
    "dataset.loc[:, 'pickup_long_round'] = np.around(dataset['pickup_longitude'].values, decimals=3)\n",
    "dataset.loc[:, 'pickup_lat_round'] = np.around(dataset['pickup_latitude'].values, decimals=3)\n",
    "dataset.loc[:, 'dropoff_long_round'] = np.around(dataset['dropoff_longitude'].values, decimals=3)\n",
    "dataset.loc[:, 'dropoff_lat_round'] = np.around(dataset['dropoff_latitude'].values, decimals=3)"
   ]
  },
  {
   "cell_type": "code",
   "execution_count": 282,
   "metadata": {},
   "outputs": [
    {
     "data": {
      "text/html": [
       "<div>\n",
       "<style>\n",
       "    .dataframe thead tr:only-child th {\n",
       "        text-align: right;\n",
       "    }\n",
       "\n",
       "    .dataframe thead th {\n",
       "        text-align: left;\n",
       "    }\n",
       "\n",
       "    .dataframe tbody tr th {\n",
       "        vertical-align: top;\n",
       "    }\n",
       "</style>\n",
       "<table border=\"1\" class=\"dataframe\">\n",
       "  <thead>\n",
       "    <tr style=\"text-align: right;\">\n",
       "      <th></th>\n",
       "      <th>trip_duration</th>\n",
       "      <th>manhattan_speed</th>\n",
       "      <th>pickup_latitude</th>\n",
       "      <th>pickup_longitude</th>\n",
       "      <th>dropoff_latitude</th>\n",
       "      <th>dropoff_longitude</th>\n",
       "    </tr>\n",
       "  </thead>\n",
       "  <tbody>\n",
       "    <tr>\n",
       "      <th>count</th>\n",
       "      <td>1.458644e+06</td>\n",
       "      <td>1.458644e+06</td>\n",
       "      <td>1.458644e+06</td>\n",
       "      <td>1.458644e+06</td>\n",
       "      <td>1.458644e+06</td>\n",
       "      <td>1.458644e+06</td>\n",
       "    </tr>\n",
       "    <tr>\n",
       "      <th>mean</th>\n",
       "      <td>9.594923e+02</td>\n",
       "      <td>1.193704e+03</td>\n",
       "      <td>4.075092e+01</td>\n",
       "      <td>-7.397349e+01</td>\n",
       "      <td>4.075180e+01</td>\n",
       "      <td>-7.397342e+01</td>\n",
       "    </tr>\n",
       "    <tr>\n",
       "      <th>std</th>\n",
       "      <td>5.237432e+03</td>\n",
       "      <td>1.509072e+03</td>\n",
       "      <td>3.288119e-02</td>\n",
       "      <td>7.090186e-02</td>\n",
       "      <td>3.589056e-02</td>\n",
       "      <td>7.064327e-02</td>\n",
       "    </tr>\n",
       "    <tr>\n",
       "      <th>min</th>\n",
       "      <td>1.000000e+00</td>\n",
       "      <td>0.000000e+00</td>\n",
       "      <td>3.435970e+01</td>\n",
       "      <td>-1.219333e+02</td>\n",
       "      <td>3.218114e+01</td>\n",
       "      <td>-1.219333e+02</td>\n",
       "    </tr>\n",
       "    <tr>\n",
       "      <th>25%</th>\n",
       "      <td>3.970000e+02</td>\n",
       "      <td>5.441929e+02</td>\n",
       "      <td>4.073735e+01</td>\n",
       "      <td>-7.399187e+01</td>\n",
       "      <td>4.073588e+01</td>\n",
       "      <td>-7.399133e+01</td>\n",
       "    </tr>\n",
       "    <tr>\n",
       "      <th>50%</th>\n",
       "      <td>6.620000e+02</td>\n",
       "      <td>1.015408e+03</td>\n",
       "      <td>4.075410e+01</td>\n",
       "      <td>-7.398174e+01</td>\n",
       "      <td>4.075452e+01</td>\n",
       "      <td>-7.397975e+01</td>\n",
       "    </tr>\n",
       "    <tr>\n",
       "      <th>75%</th>\n",
       "      <td>1.075000e+03</td>\n",
       "      <td>1.577853e+03</td>\n",
       "      <td>4.076836e+01</td>\n",
       "      <td>-7.396733e+01</td>\n",
       "      <td>4.076981e+01</td>\n",
       "      <td>-7.396301e+01</td>\n",
       "    </tr>\n",
       "    <tr>\n",
       "      <th>max</th>\n",
       "      <td>3.526282e+06</td>\n",
       "      <td>9.422721e+05</td>\n",
       "      <td>5.188108e+01</td>\n",
       "      <td>-6.133553e+01</td>\n",
       "      <td>4.392103e+01</td>\n",
       "      <td>-6.133553e+01</td>\n",
       "    </tr>\n",
       "  </tbody>\n",
       "</table>\n",
       "</div>"
      ],
      "text/plain": [
       "       trip_duration  manhattan_speed  pickup_latitude  pickup_longitude  \\\n",
       "count   1.458644e+06     1.458644e+06     1.458644e+06      1.458644e+06   \n",
       "mean    9.594923e+02     1.193704e+03     4.075092e+01     -7.397349e+01   \n",
       "std     5.237432e+03     1.509072e+03     3.288119e-02      7.090186e-02   \n",
       "min     1.000000e+00     0.000000e+00     3.435970e+01     -1.219333e+02   \n",
       "25%     3.970000e+02     5.441929e+02     4.073735e+01     -7.399187e+01   \n",
       "50%     6.620000e+02     1.015408e+03     4.075410e+01     -7.398174e+01   \n",
       "75%     1.075000e+03     1.577853e+03     4.076836e+01     -7.396733e+01   \n",
       "max     3.526282e+06     9.422721e+05     5.188108e+01     -6.133553e+01   \n",
       "\n",
       "       dropoff_latitude  dropoff_longitude  \n",
       "count      1.458644e+06       1.458644e+06  \n",
       "mean       4.075180e+01      -7.397342e+01  \n",
       "std        3.589056e-02       7.064327e-02  \n",
       "min        3.218114e+01      -1.219333e+02  \n",
       "25%        4.073588e+01      -7.399133e+01  \n",
       "50%        4.075452e+01      -7.397975e+01  \n",
       "75%        4.076981e+01      -7.396301e+01  \n",
       "max        4.392103e+01      -6.133553e+01  "
      ]
     },
     "execution_count": 282,
     "metadata": {},
     "output_type": "execute_result"
    }
   ],
   "source": [
    "dataset[['trip_duration', 'manhattan_speed', 'pickup_latitude', 'pickup_longitude', 'dropoff_latitude', 'dropoff_longitude']].describe()"
   ]
  },
  {
   "cell_type": "code",
   "execution_count": 283,
   "metadata": {
    "collapsed": true
   },
   "outputs": [],
   "source": [
    "from sklearn.model_selection import train_test_split\n",
    "train, validate = train_test_split(dataset, test_size = 0.2)"
   ]
  },
  {
   "cell_type": "code",
   "execution_count": 284,
   "metadata": {
    "collapsed": true
   },
   "outputs": [],
   "source": [
    "dataset = train\n",
    "dataset = dataset[dataset['manhattan_dist'] < dataset['manhattan_dist'].quantile(0.999) ]\n",
    "dataset = dataset[dataset['manhattan_speed'] < dataset['manhattan_speed'].quantile(0.999) ]\n",
    "\n",
    "dataset = dataset[dataset['pickup_longitude'] > dataset['pickup_longitude'].quantile(0.001) ]\n",
    "dataset = dataset[dataset['pickup_longitude'] < dataset['pickup_longitude'].quantile(0.999) ]\n",
    "dataset = dataset[dataset['pickup_latitude'] > dataset['pickup_latitude'].quantile(0.001) ]\n",
    "dataset = dataset[dataset['pickup_latitude'] < dataset['pickup_latitude'].quantile(0.999) ]\n",
    "\n",
    "# dataset = dataset[dataset['trip_duration'] < dataset['trip_duration'].quantile(0.999)]\n",
    "# dataset = dataset[dataset['trip_duration'] < dataset['trip_duration'].quantile(0.999)]\n",
    "\n",
    "train = dataset"
   ]
  },
  {
   "cell_type": "code",
   "execution_count": 216,
   "metadata": {},
   "outputs": [],
   "source": [
    "plt.close()\n",
    "fig = plt.figure(figsize=(15,18))\n",
    "ax1 = fig.add_subplot(611)\n",
    "ax2 = fig.add_subplot(612)\n",
    "ax3 = fig.add_subplot(613)\n",
    "ax4 = fig.add_subplot(614)\n",
    "ax5 = fig.add_subplot(615)\n",
    "ax6 = fig.add_subplot(616)\n",
    "coly = 'manhattan_speed'\n",
    "sns.boxplot(x = 'month', y =coly, data = train, ax=ax1)\n",
    "sns.boxplot(x = 'weekday', y =coly, data = train, ax=ax2)\n",
    "sns.boxplot(x = 'hour', y =coly, data = train, ax=ax3)\n",
    "sns.boxplot(x = 'day', y = coly, data = train, ax=ax4)\n",
    "sns.boxplot(x = 'quarter', y = coly, data = train, ax=ax5)\n",
    "sns.boxplot(x = 'passenger_count', y =coly, data = train, ax=ax6)\n",
    "# plt.show()\n",
    "savefig('speedwithdata.eps')"
   ]
  },
  {
   "cell_type": "code",
   "execution_count": 290,
   "metadata": {},
   "outputs": [
    {
     "data": {
      "image/png": "[encoded data removed]",
      "text/plain": [
       "<matplotlib.figure.Figure at 0x11b86cda0>"
      ]
     },
     "metadata": {},
     "output_type": "display_data"
    }
   ],
   "source": [
    "from sklearn.cluster import MiniBatchKMeans\n",
    "sample_ind = np.random.permutation(len(train))[:500000]\n",
    "kmeans = MiniBatchKMeans(n_clusters=100, batch_size=1000).fit(np.vstack((train[['pickup_longitude', 'pickup_latitude']].values,\\\n",
    "                                                                       train[['dropoff_longitude', 'dropoff_latitude']].values))[sample_ind])\n",
    "train.loc[:, 'pickup_cluster'] = kmeans.predict(train[['pickup_longitude', 'pickup_latitude']])\n",
    "train.loc[:, 'dropoff_cluster'] = kmeans.predict(train[['dropoff_longitude', 'dropoff_latitude']])"
   ]
  },
  {
   "cell_type": "code",
   "execution_count": 294,
   "metadata": {},
   "outputs": [
    {
     "data": {
      "text/plain": [
       "625134"
      ]
     },
     "execution_count": 294,
     "metadata": {},
     "output_type": "execute_result"
    }
   ],
   "source": [
    "len(test)"
   ]
  },
  {
   "cell_type": "code",
   "execution_count": 298,
   "metadata": {},
   "outputs": [],
   "source": [
    "N = 500000\n",
    "plt.close()\n",
    "fig, ax = plt.subplots(ncols=1, nrows=1)\n",
    "ax.scatter(train.pickup_longitude.values[:N], train.pickup_latitude.values[:N], s=10, lw=0, \\\n",
    "           c=train.pickup_cluster[:N].values, cmap='tab20', alpha=0.2)\n",
    "\n",
    "ax.set_xlabel('Longitude')\n",
    "ax.set_ylabel('Latitude')\n",
    "ax.set_title('Cluster based on proximity in train set')\n",
    "# plt.show()\n",
    "savefig('map_cluster.eps', dpi = 50)"
   ]
  },
  {
   "cell_type": "code",
   "execution_count": 301,
   "metadata": {},
   "outputs": [
    {
     "data": {
      "image/png": "[encoded data removed]",
      "text/plain": [
       "<matplotlib.figure.Figure at 0x11b8b5978>"
      ]
     },
     "metadata": {},
     "output_type": "display_data"
    }
   ],
   "source": [
    "from sklearn.cluster import MiniBatchKMeans\n",
    "# sample_ind = np.random.permutation(len(test))\n",
    "# kmeans = MiniBatchKMeans(n_clusters=100, batch_size=1000).fit(np.vstack((train[['pickup_longitude', 'pickup_latitude']].values,\\\n",
    "#                                                                        train[['dropoff_longitude', 'dropoff_latitude']].values, \\\n",
    "#                                                                         validate[['pickup_longitude', 'pickup_latitude']].values,\\\n",
    "#                                                                          validate[['dropoff_longitude', 'dropoff_latitude']].values))[sample_ind])\n",
    "\n",
    "# validate.loc[:, 'pickup_cluster'] = kmeans.predict(validate[['pickup_longitude', 'pickup_latitude']])\n",
    "# validate.loc[:, 'dropoff_cluster'] = kmeans.predict(validate[['dropoff_longitude', 'dropoff_latitude']])\n",
    "city_long_border = (-74.03, -73.75)\n",
    "city_lat_border = (40.63, 40.85)\n",
    "plt.close()\n",
    "fig, ax = plt.subplots(ncols=1, nrows=1)\n",
    "ax.scatter(validate.pickup_longitude.values, validate.pickup_latitude.values, s=10, lw=0, \\\n",
    "           c=validate.pickup_cluster.values, cmap='tab20', alpha=0.2)\n",
    "ax.set_xlim(city_long_border)\n",
    "ax.set_ylim(city_lat_border)\n",
    "ax.set_xlabel('Longitude')\n",
    "ax.set_ylabel('Latitude')\n",
    "plt.show()\n",
    "# savefig('map_cluster_validate.eps', dpi = 50)"
   ]
  },
  {
   "cell_type": "code",
   "execution_count": 303,
   "metadata": {},
   "outputs": [],
   "source": [
    "train.drop(['pickup_datetime'], axis = 1, inplace = True)\n",
    "validate.drop(['pickup_datetime'], axis = 1, inplace = True)"
   ]
  },
  {
   "cell_type": "code",
   "execution_count": 305,
   "metadata": {},
   "outputs": [
    {
     "data": {
      "text/plain": [
       "['id',\n",
       " 'vendor_id',\n",
       " 'passenger_count',\n",
       " 'pickup_longitude',\n",
       " 'pickup_latitude',\n",
       " 'dropoff_longitude',\n",
       " 'dropoff_latitude',\n",
       " 'store_and_fwd_flag',\n",
       " 'trip_duration',\n",
       " 'month',\n",
       " 'hour',\n",
       " 'weekday',\n",
       " 'day',\n",
       " 'quarter',\n",
       " 'manhattan_dist',\n",
       " 'manhattan_speed',\n",
       " 'pickup_long_round',\n",
       " 'pickup_lat_round',\n",
       " 'dropoff_long_round',\n",
       " 'dropoff_lat_round',\n",
       " 'pickup_cluster',\n",
       " 'dropoff_cluster']"
      ]
     },
     "execution_count": 305,
     "metadata": {},
     "output_type": "execute_result"
    }
   ],
   "source": [
    "list(validate)"
   ]
  },
  {
   "cell_type": "code",
   "execution_count": 307,
   "metadata": {
    "collapsed": true
   },
   "outputs": [],
   "source": [
    "features = list(set(list(train)) - set(['id','trip_duration', 'pickup_longitude','pickup_latitude',\\\n",
    "                                   'dropoff_longitude','dropoff_latitude', 'manhattan_speed']))"
   ]
  },
  {
   "cell_type": "code",
   "execution_count": 308,
   "metadata": {},
   "outputs": [],
   "source": [
    "Train = pd.get_dummies(train[features], drop_first = True)\n",
    "Validate = pd.get_dummies(validate[features], drop_first = True)"
   ]
  },
  {
   "cell_type": "code",
   "execution_count": 310,
   "metadata": {
    "collapsed": true
   },
   "outputs": [],
   "source": [
    "features = list(set(list(train)) - set(['id','trip_duration', 'pickup_longitude','pickup_latitude',\\\n",
    "                                   'dropoff_longitude','dropoff_latitude', 'manhattan_speed', 'passenger_count']))"
   ]
  },
  {
   "cell_type": "code",
   "execution_count": 19,
   "metadata": {},
   "outputs": [],
   "source": [
    "test=dataset\n",
    "Test = pd.get_dummies(test[features], drop_first= True)"
   ]
  },
  {
   "cell_type": "code",
   "execution_count": 311,
   "metadata": {},
   "outputs": [
    {
     "data": {
      "text/plain": [
       "RandomForestRegressor(bootstrap=True, criterion='mse', max_depth=None,\n",
       "           max_features='auto', max_leaf_nodes=None,\n",
       "           min_impurity_split=1e-07, min_samples_leaf=1,\n",
       "           min_samples_split=2, min_weight_fraction_leaf=0.0,\n",
       "           n_estimators=500, n_jobs=-1, oob_score=False, random_state=0,\n",
       "           verbose=0, warm_start=False)"
      ]
     },
     "execution_count": 311,
     "metadata": {},
     "output_type": "execute_result"
    }
   ],
   "source": [
    "from sklearn.ensemble import RandomForestRegressor\n",
    "regressor = RandomForestRegressor(n_estimators = 500, criterion = 'mse', max_features = 'auto', random_state = 0, n_jobs = -1)\n",
    "regressor.fit(Train[features], train['manhattan_speed'])"
   ]
  },
  {
   "cell_type": "code",
   "execution_count": 314,
   "metadata": {
    "collapsed": true
   },
   "outputs": [],
   "source": [
    "y_pred = regressor.predict(Train[features])"
   ]
  },
  {
   "cell_type": "code",
   "execution_count": 315,
   "metadata": {
    "collapsed": true
   },
   "outputs": [],
   "source": [
    "y_pred_test = regressor.predict(Validate[features])"
   ]
  },
  {
   "cell_type": "code",
   "execution_count": 24,
   "metadata": {
    "collapsed": true
   },
   "outputs": [],
   "source": [
    "y_pred_fin = regressor.predict(Test[['month','day', 'minute', 'manhattan_dist', 'dropoff_lat_round', 'dropoff_long_round', 'hour',\\\n",
    "                    'weekday', 'pickup_long_round', 'store_and_fwd_flag', 'vendor_id', 'pickup_lat_round',\\\n",
    "                    'passenger_count_b', 'passenger_count_c', 'passenger_count_d','passenger_count_e','passenger_count_f',\\\n",
    "                    'passenger_count_g']])\n",
    "y_pred_fin_ = Test['manhattan_dist'].values/y_pred_fin"
   ]
  },
  {
   "cell_type": "code",
   "execution_count": 323,
   "metadata": {},
   "outputs": [
    {
     "name": "stderr",
     "output_type": "stream",
     "text": [
      "/usr/local/lib/python3.6/site-packages/ipykernel_launcher.py:2: RuntimeWarning: invalid value encountered in true_divide\n",
      "  \n"
     ]
    }
   ],
   "source": [
    "N = 6371*3600*math.pi/180.0\n",
    "y_pred_test_ = N*Validate['manhattan_dist'].values/y_pred_test"
   ]
  },
  {
   "cell_type": "code",
   "execution_count": 324,
   "metadata": {},
   "outputs": [
    {
     "data": {
      "text/plain": [
       "False"
      ]
     },
     "execution_count": 324,
     "metadata": {},
     "output_type": "execute_result"
    }
   ],
   "source": [
    "np.isnan(y_pred).any()"
   ]
  },
  {
   "cell_type": "code",
   "execution_count": 325,
   "metadata": {},
   "outputs": [
    {
     "name": "stderr",
     "output_type": "stream",
     "text": [
      "/usr/local/lib/python3.6/site-packages/ipykernel_launcher.py:1: RuntimeWarning: invalid value encountered in true_divide\n",
      "  \"\"\"Entry point for launching an IPython kernel.\n"
     ]
    }
   ],
   "source": [
    "y_pred_ = N*Train['manhattan_dist'].values/y_pred"
   ]
  },
  {
   "cell_type": "code",
   "execution_count": 327,
   "metadata": {},
   "outputs": [
    {
     "data": {
      "text/plain": [
       "0.46786527816079232"
      ]
     },
     "execution_count": 327,
     "metadata": {},
     "output_type": "execute_result"
    }
   ],
   "source": [
    "rmsle(y_pred_test_, validate['trip_duration'] )"
   ]
  },
  {
   "cell_type": "code",
   "execution_count": null,
   "metadata": {
    "collapsed": true
   },
   "outputs": [],
   "source": []
  },
  {
   "cell_type": "code",
   "execution_count": 33,
   "metadata": {
    "collapsed": true
   },
   "outputs": [],
   "source": [
    "submission = pd.DataFrame( y_pred_fin_, columns = [ 'trip_duration'])\n",
    "submission.loc[:, 'id'] = test['id']\n",
    "submission = submission[['id', 'trip_duration']]\n",
    "submission.to_csv('submission.csv', index=False)"
   ]
  },
  {
   "cell_type": "code",
   "execution_count": 330,
   "metadata": {},
   "outputs": [
    {
     "data": {
      "image/png": "[encoded data removed]",
      "text/plain": [
       "<matplotlib.figure.Figure at 0x134baef98>"
      ]
     },
     "metadata": {},
     "output_type": "display_data"
    }
   ],
   "source": [
    "plt.close()\n",
    "\n",
    "plt.scatter(validate['trip_duration'], validate['trip_duration'] - y_pred_test_)\n",
    "plt.show()"
   ]
  },
  {
   "cell_type": "code",
   "execution_count": 29,
   "metadata": {
    "collapsed": true
   },
   "outputs": [],
   "source": [
    "def rmsle(y_pred, y):\n",
    "    return np.sqrt(np.mean(np.square(np.log(y_pred+1) - np.log(y+1))))"
   ]
  },
  {
   "cell_type": "code",
   "execution_count": 76,
   "metadata": {},
   "outputs": [
    {
     "data": {
      "text/plain": [
       "0.46114558902699432"
      ]
     },
     "execution_count": 76,
     "metadata": {},
     "output_type": "execute_result"
    }
   ],
   "source": [
    "np.std(np.log1p(dataset['manhattan_speed'].values))"
   ]
  },
  {
   "cell_type": "code",
   "execution_count": 155,
   "metadata": {},
   "outputs": [
    {
     "data": {
      "image/png": "[encoded data removed]",
      "text/plain": [
       "<matplotlib.figure.Figure at 0x121994e10>"
      ]
     },
     "metadata": {},
     "output_type": "display_data"
    }
   ],
   "source": [
    "from matplotlib.pyplot import savefig\n",
    "plt.close()\n",
    "col = 'manhattan_speed'\n",
    "f, ax = plt.subplots(figsize=(12,8))\n",
    "plt.hist(dataset[col].values, bins = 1000)\n",
    "# plt.axis([0,200, 0, 10000])\n",
    "plt.title('Histogram of '+col)\n",
    "plt.xlabel(col + '(km/hr)')\n",
    "plt.ylabel('counts')\n",
    "plt.show()\n",
    "savefig(col+'.eps')"
   ]
  },
  {
   "cell_type": "code",
   "execution_count": 164,
   "metadata": {},
   "outputs": [
    {
     "data": {
      "text/plain": [
       "Int64Index([], dtype='int64')"
      ]
     },
     "execution_count": 164,
     "metadata": {},
     "output_type": "execute_result"
    }
   ],
   "source": [
    "train[train['trip_duration'] == 0.0].index"
   ]
  },
  {
   "cell_type": "code",
   "execution_count": null,
   "metadata": {
    "collapsed": true
   },
   "outputs": [],
   "source": [
    "\n",
    "plt.close()\n",
    "f, ax = plt.subplots(figsize=(12,12))\n",
    "plt.scatter(range(validate.shape[0]), validate['pickup_latitude'])\n",
    "plt.show()\n",
    "\n"
   ]
  },
  {
   "cell_type": "code",
   "execution_count": null,
   "metadata": {
    "collapsed": true
   },
   "outputs": [],
   "source": [
    "plt.close()\n",
    "f, ax = plt.subplots(figsize=(12,12))\n",
    "ax = plt.scatter(dataset['pickup_longitude'], dataset['pickup_latitude'])\n",
    "# plt.xlim((-75, -72))\n",
    "# plt.ylim((40.4, 42.3))\n",
    "plt.show()"
   ]
  },
  {
   "cell_type": "code",
   "execution_count": null,
   "metadata": {
    "collapsed": true
   },
   "outputs": [],
   "source": [
    "plt.close()\n",
    "fig, ax = plt.subplots(figsize=(15,5))\n",
    "sns.boxplot(x=\"dropoff_longitude\", y=\"manhattan_dist\", data=dataset);\n",
    "plt.show()"
   ]
  },
  {
   "cell_type": "code",
   "execution_count": null,
   "metadata": {
    "collapsed": true
   },
   "outputs": [],
   "source": [
    "plt.close()\n",
    "fig, ax = plt.subplots(figsize=(15,5))\n",
    "sns.boxplot(x=\"dropoff_longitude\", y=\"manhattan_speed\", data=dataset);\n",
    "plt.show()"
   ]
  },
  {
   "cell_type": "code",
   "execution_count": null,
   "metadata": {
    "collapsed": true
   },
   "outputs": [],
   "source": [
    "plt.close()\n",
    "col = 'hour'\n",
    "plt.scatter(range(len(dataset[col].unique())), dataset.groupby(col).count()[['id']])\n",
    "plt.show()"
   ]
  },
  {
   "cell_type": "code",
   "execution_count": null,
   "metadata": {
    "collapsed": true
   },
   "outputs": [],
   "source": [
    "#correlation matrix\n",
    "import seaborn as sns\n",
    "corrmat = train[train.select_dtypes(exclude=['object']).columns].corr()\n",
    "f, ax = plt.subplots(figsize=(6, 6))\n",
    "sns.heatmap(corrmat, square=True, cmap=\"YlGnBu\", linewidths=.5, annot=False);\n",
    "plt.show()"
   ]
  },
  {
   "cell_type": "code",
   "execution_count": null,
   "metadata": {
    "collapsed": true
   },
   "outputs": [],
   "source": [
    "from numpy import where\n",
    "where(dataset['pickup_long_round'].unique() == -74)"
   ]
  },
  {
   "cell_type": "code",
   "execution_count": null,
   "metadata": {
    "collapsed": true
   },
   "outputs": [],
   "source": [
    "plt.close()\n",
    "colx = 'trip_duration'\n",
    "# print (test[colx].unique())\n",
    "# print(train.groupby(colx).count()[['Id']]/1460)\n",
    "fig, ax = plt.subplots(figsize=(15,6))\n",
    "plt.scatter(np.sort(train[colx])[:-4], range(train.shape[0]-4))\n",
    "plt.show()\n",
    "# plt.scatter(train['BsmtQual_num'], train['BsmtCond_num']);"
   ]
  },
  {
   "cell_type": "code",
   "execution_count": null,
   "metadata": {
    "collapsed": true
   },
   "outputs": [],
   "source": [
    "dataset['day_of_the_year'] = dataset['pickup_datetime'].dt.dayofyear"
   ]
  },
  {
   "cell_type": "code",
   "execution_count": null,
   "metadata": {
    "collapsed": true
   },
   "outputs": [],
   "source": [
    "list(dataset)\n",
    "features  = ['id', 'vendor_id', 'pickup_time', 'day_of_the_year', 'distance', 'pickup_latitude', 'pickup_longitude', 'dropoff_latitude','dropoff_longitude',\\\n",
    "             'trip_duration']"
   ]
  },
  {
   "cell_type": "code",
   "execution_count": null,
   "metadata": {
    "collapsed": true
   },
   "outputs": [],
   "source": [
    "#converting month, day of week, day of year, time to cyclic\n",
    "from numpy import cos, pi\n",
    "dataset['day_of_year_cos'] = cos(((dataset['day_of_the_year'])/183)*pi)\n",
    "dataset['pickup_time_cos'] = cos(((dataset['pickup_time'])/(12*3600))*pi)"
   ]
  },
  {
   "cell_type": "code",
   "execution_count": null,
   "metadata": {
    "collapsed": true
   },
   "outputs": [],
   "source": [
    "df = dataset[features]\n",
    "df.shape"
   ]
  },
  {
   "cell_type": "code",
   "execution_count": null,
   "metadata": {
    "collapsed": true
   },
   "outputs": [],
   "source": [
    "#Encoding the string data\n",
    "from sklearn.preprocessing import LabelEncoder, OneHotEncoder\n",
    "labelencoder_X_1 = LabelEncoder()\n",
    "dataset['day_week_cat'] = labelencoder_X_1.fit_transform(dataset['day_week'].values)\n",
    "onehotencoder = OneHotEncoder(categorical_features = 'all', sparse = False)\n",
    "W = onehotencoder.fit_transform(dataset['day_week_cat'].values.reshape(-1,1))"
   ]
  },
  {
   "cell_type": "code",
   "execution_count": null,
   "metadata": {
    "collapsed": true
   },
   "outputs": [],
   "source": [
    "W.shape"
   ]
  },
  {
   "cell_type": "code",
   "execution_count": null,
   "metadata": {
    "collapsed": true
   },
   "outputs": [],
   "source": [
    "list(df)"
   ]
  },
  {
   "cell_type": "code",
   "execution_count": null,
   "metadata": {
    "collapsed": true
   },
   "outputs": [],
   "source": [
    "# df is the dataset on which we are going to train\n",
    "from numpy import hstack, log\n",
    "list(df)\n",
    "X = df.iloc[:, 0:9].values\n",
    "X = hstack((X,W[:,1:]))\n",
    "y = df.iloc[:, 9].values\n",
    "\n",
    "# Splitting the dataset into the Training set and Test set\n",
    "from sklearn.model_selection import train_test_split\n",
    "X_train, X_test, y_train, y_test = train_test_split(X, y, test_size = 0.2, random_state = 0)"
   ]
  },
  {
   "cell_type": "code",
   "execution_count": null,
   "metadata": {
    "collapsed": true
   },
   "outputs": [],
   "source": [
    "from sklearn.decomposition import PCA\n",
    "# 7 and 9 are latitudes\n",
    "L = np.vstack((X_train[:, [5, 6]], \n",
    "               X_train[:, [7, 8]]))\n",
    "pca = PCA()\n",
    "L = pca.fit_transform(L)\n",
    "# L_pca = pca.transform(L)\n",
    "# _, (ax1, ax2) = plt.subplots(2, 1, figsize=(16,9))\n",
    "\n",
    "# sample_ind = np.random.permutation(len(L))[:10000]\n",
    "\n",
    "# ax1.scatter(X[sample_ind,0], X[sample_ind,1], s=1, lw=0)\n",
    "# ax1.set_title('Original')\n",
    "\n",
    "# ax2.scatter(X_pca[sample_ind,0], X_pca[sample_ind,1], s=1, lw=0)\n",
    "# ax2.set_title('Rotated')"
   ]
  },
  {
   "cell_type": "code",
   "execution_count": null,
   "metadata": {
    "collapsed": true
   },
   "outputs": [],
   "source": [
    "X_train.shape"
   ]
  },
  {
   "cell_type": "code",
   "execution_count": null,
   "metadata": {
    "collapsed": true
   },
   "outputs": [],
   "source": [
    "X_train_1 = X_train[:, [5,6,7,8]]\n",
    "X_test_1 = X_test[:, [5,6,7,8]]"
   ]
  },
  {
   "cell_type": "code",
   "execution_count": null,
   "metadata": {
    "collapsed": true
   },
   "outputs": [],
   "source": [
    "X_train[:, 5] = pca.transform(X_train_1[:, [0,1]])[:, 0] # pickup_latitude\n",
    "X_train[:, 6] = pca.transform(X_train_1[:, [0,1]])[:, 1] #pickup_longitude\n",
    "X_train[:, 7] = pca.transform(X_train_1[:, [2,3]])[:, 0] #dropoff_latitude\n",
    "X_train[:, 8] = pca.transform(X_train_1[:, [2,3]])[:, 1] #dropoff_longitude"
   ]
  },
  {
   "cell_type": "code",
   "execution_count": null,
   "metadata": {
    "collapsed": true
   },
   "outputs": [],
   "source": [
    "# apply the pca transform for the test set\n",
    "X_test[:, 5] = pca.transform(X_test_1[:, [0,1]])[:, 0]\n",
    "X_test[:, 6] = pca.transform(X_test_1[:, [0,1]])[:, 1]\n",
    "X_test[:, 7] = pca.transform(X_test_1[:, [2,3]])[:, 0]\n",
    "X_test[:, 8] = pca.transform(X_test_1[:, [2,3]])[:, 1]"
   ]
  },
  {
   "cell_type": "code",
   "execution_count": null,
   "metadata": {
    "collapsed": true
   },
   "outputs": [],
   "source": [
    "# dataset['pickup_pca0'] = pca.transform(dataset[['pickup_latitude', 'pickup_longitude']])[:,0]\n",
    "# dataset['pickup_pca1'] = pca.transform(dataset[['pickup_latitude', 'pickup_longitude']])[:,1]\n",
    "\n",
    "# dataset['dropoff_pca0'] = pca.transform(dataset[['dropoff_latitude', 'dropoff_longitude']])[:,0]\n",
    "# dataset['dropoff_pca1'] = pca.transform(dataset[['dropoff_latitude', 'dropoff_longitude']])[:,1]"
   ]
  },
  {
   "cell_type": "code",
   "execution_count": null,
   "metadata": {
    "collapsed": true
   },
   "outputs": [],
   "source": [
    "# # checking our target Y: trip_duration and plot\n",
    "from numpy import percentile\n",
    "q1 = percentile(y_train, 0.001)\n",
    "q2 = percentile(y_train, 99.999)\n",
    "keep = [(y_train > q1) & (y_train < q2)]\n",
    "\n",
    "# plt.close()\n",
    "# plt.scatter(range(y_train[keep].shape[0]), np.sort( y_train[keep]))\n",
    "# # plt.xlabel('day')\n",
    "# plt.ylabel('trip duration')\n",
    "# plt.show()"
   ]
  },
  {
   "cell_type": "code",
   "execution_count": null,
   "metadata": {
    "collapsed": true
   },
   "outputs": [],
   "source": [
    "y_train = y_train[keep]\n",
    "X_train = X_train[keep]"
   ]
  },
  {
   "cell_type": "code",
   "execution_count": null,
   "metadata": {
    "collapsed": true
   },
   "outputs": [],
   "source": [
    "# q1 = dataset.pickup_longitude.quantile(0.001)\n",
    "# q2 = dataset.pickup_longitude.quantile(0.999)\n",
    "# dataset = dataset[(dataset.pickup_longitude > q1) & (dataset.pickup_longitude < q2)]\n",
    "# # checking our target Y: trip_duration and plot\n",
    "q1 = percentile(X_train[:,5], 0.01, axis = 0 )\n",
    "q2 = percentile(X_train[:,5], 99.99, axis = 0)\n",
    "keep = [(X_train[:, 5] > q1) & (X_train[:, 5] < q2)]\n",
    "\n",
    "X_train = X_train[keep]\n",
    "y_train = y_train[keep]\n",
    "# plt.close()\n",
    "# plt.scatter(range(X_t.shape[0]), X_t[:,5])\n",
    "# plt.xlabel('index')\n",
    "# plt.ylabel('pickup latitude')\n",
    "# plt.show()"
   ]
  },
  {
   "cell_type": "code",
   "execution_count": null,
   "metadata": {
    "collapsed": true
   },
   "outputs": [],
   "source": [
    "from numpy import percentile\n",
    "q1 = percentile(X_train[:,6], 0.001, axis = 0 )\n",
    "q2 = percentile(X_train[:, 6], 99.999, axis = 0)\n",
    "\n",
    "keep = [(X_train[:, 6] > q1) & (X_train[:, 6] < q2)]\n",
    "\n",
    "X_train= X_train[keep]\n",
    "y_train = y_train[keep]\n",
    "# X_t.shape\n",
    "# plt.close()\n",
    "# plt.scatter(range(X_t.shape[0]), X_t[:,6])\n",
    "# plt.xlabel('index')\n",
    "# plt.ylabel('pickup longitude')\n",
    "# plt.show()"
   ]
  },
  {
   "cell_type": "code",
   "execution_count": null,
   "metadata": {
    "collapsed": true
   },
   "outputs": [],
   "source": [
    "q1 = percentile(X_train[:,7], 0.01, axis = 0 )\n",
    "q2 = percentile(X_train[:, 7], 99.99, axis = 0)\n",
    "\n",
    "keep = [(X_train[:, 7] > q1) & (X_train[:, 7] < q2)]\n",
    "\n",
    "X_train= X_train[keep]\n",
    "y_train= y_train[keep]\n",
    "# # X_t.shape\n",
    "# plt.close()\n",
    "# plt.scatter(range(X_t.shape[0]), X_t[:,7])\n",
    "# plt.xlabel('index')\n",
    "# plt.ylabel('dropoff latitude')\n",
    "# plt.show()"
   ]
  },
  {
   "cell_type": "code",
   "execution_count": null,
   "metadata": {
    "collapsed": true
   },
   "outputs": [],
   "source": [
    "q1 = percentile(X_train[:,8], 0.01, axis = 0 )\n",
    "q2 = percentile(X_train[:, 8], 99.999, axis = 0)\n",
    "\n",
    "keep = [(X_train[:, 8] > q1) & (X_train[:, 8] < q2)]\n",
    "\n",
    "X_train= X_train[keep]\n",
    "y_train = y_train[keep]\n",
    "# # X_t.shape\n",
    "# plt.close()\n",
    "# plt.scatter(range(X_t.shape[0]), X_t[:,8])\n",
    "# plt.xlabel('index')\n",
    "# plt.ylabel('dropoff longitude')\n",
    "# plt.show()"
   ]
  },
  {
   "cell_type": "code",
   "execution_count": null,
   "metadata": {
    "collapsed": true
   },
   "outputs": [],
   "source": [
    "X.shape"
   ]
  },
  {
   "cell_type": "code",
   "execution_count": null,
   "metadata": {
    "collapsed": true
   },
   "outputs": [],
   "source": [
    "y.shape"
   ]
  },
  {
   "cell_type": "code",
   "execution_count": null,
   "metadata": {
    "collapsed": true
   },
   "outputs": [],
   "source": [
    "X_train = X_train[:, 1:]"
   ]
  },
  {
   "cell_type": "code",
   "execution_count": null,
   "metadata": {
    "collapsed": true
   },
   "outputs": [],
   "source": [
    "X_test = X_test[:, 1:]"
   ]
  },
  {
   "cell_type": "code",
   "execution_count": null,
   "metadata": {
    "collapsed": true
   },
   "outputs": [],
   "source": [
    "# Feature Scaling\n",
    "from sklearn.preprocessing import StandardScaler\n",
    "sc = StandardScaler()\n",
    "\n",
    "X_train = sc.fit_transform(X_train, y = y_train)"
   ]
  },
  {
   "cell_type": "code",
   "execution_count": null,
   "metadata": {
    "collapsed": true
   },
   "outputs": [],
   "source": [
    "X_test = sc.transform(X_test, y_test)"
   ]
  },
  {
   "cell_type": "code",
   "execution_count": null,
   "metadata": {
    "collapsed": true
   },
   "outputs": [],
   "source": [
    "df_train = pd.DataFrame(X_train)\n",
    "df_train.to_csv(\"df_train.csv\")\n",
    "\n",
    "df_test = pd.DataFrame(X_test)\n",
    "df_test.to_csv('df_test.csv')"
   ]
  },
  {
   "cell_type": "code",
   "execution_count": null,
   "metadata": {
    "collapsed": true
   },
   "outputs": [],
   "source": [
    "y_t = (y_train-min(y_train))/(max(y_train)-min(y_train)) "
   ]
  },
  {
   "cell_type": "code",
   "execution_count": null,
   "metadata": {
    "collapsed": true
   },
   "outputs": [],
   "source": [
    "y_train = log(y_train)"
   ]
  },
  {
   "cell_type": "code",
   "execution_count": null,
   "metadata": {
    "collapsed": true
   },
   "outputs": [],
   "source": [
    "import keras\n",
    "from keras.models import Sequential, load_model #initialising the NN\n",
    "from keras.layers import Dense #initialising the layers\n",
    "from keras.layers import Dropout\n",
    "from keras.wrappers.scikit_learn import KerasRegressor"
   ]
  },
  {
   "cell_type": "code",
   "execution_count": null,
   "metadata": {
    "collapsed": true
   },
   "outputs": [],
   "source": [
    "# create model\n",
    "model = Sequential()\n",
    "model.add(Dense(units = 9, input_dim=14, kernel_initializer='uniform', activation='relu'))\n",
    "model.add(Dropout(rate = 0.1))\n",
    "model.add(Dense(units = 9, kernel_initializer='uniform', activation='relu'))\n",
    "model.add(Dropout(rate = 0.1))\n",
    "model.add(Dense(units = 9, kernel_initializer='uniform', activation='relu'))\n",
    "model.add(Dropout(rate = 0.1))\n",
    "model.add(Dense(1, kernel_initializer='uniform'))\n",
    "# Compile model\n",
    "adam = keras.optimizers.Adam(lr=0.1, beta_1=0.9, beta_2=0.99, epsilon=1e-08, decay=0)\n",
    "model.compile(loss='mean_squared_error', optimizer=adam )"
   ]
  },
  {
   "cell_type": "code",
   "execution_count": null,
   "metadata": {
    "collapsed": true,
    "scrolled": true
   },
   "outputs": [],
   "source": [
    "# fitting the Model\n",
    "model.fit(X_train, y_train, batch_size=200, epochs=50)\n"
   ]
  },
  {
   "cell_type": "code",
   "execution_count": null,
   "metadata": {
    "collapsed": true
   },
   "outputs": [],
   "source": [
    "#save the model\n",
    "model.save('taxi.h5')\n",
    "model.save_weights('taxi_weights.h5')"
   ]
  },
  {
   "cell_type": "code",
   "execution_count": null,
   "metadata": {
    "collapsed": true
   },
   "outputs": [],
   "source": [
    "# model = load_weights('taxi_weights.h5')\n",
    "model = load_model('taxi.h5')\n",
    "y_pred_test = model.predict(X_test)\n",
    "y_pred_train = model.predict(X_train)"
   ]
  },
  {
   "cell_type": "code",
   "execution_count": null,
   "metadata": {
    "collapsed": true
   },
   "outputs": [],
   "source": [
    "from numpy import exp\n",
    "y_train = exp(y_train)\n",
    "y_pred_train = exp(y_pred_train)\n",
    "y_pred_test = exp(y_pred_test)"
   ]
  },
  {
   "cell_type": "code",
   "execution_count": null,
   "metadata": {
    "collapsed": true
   },
   "outputs": [],
   "source": [
    "rmsle(y_train, y_pred_train)"
   ]
  },
  {
   "cell_type": "code",
   "execution_count": null,
   "metadata": {
    "collapsed": true
   },
   "outputs": [],
   "source": [
    "def rmsle_np(h, y): \n",
    "    \"\"\"\n",
    "    Compute the Root Mean Squared Log Error for hypthesis h and targets y\n",
    "    \n",
    "    Args:\n",
    "        h - numpy array containing predictions with shape (n_samples, n_targets)\n",
    "        y - numpy array containing targets with shape (n_samples, n_targets)\n",
    "    \"\"\"\n",
    "    return np.sqrt(np.square(np.log(h + 1) - np.log(y + 1)).mean())\n",
    "\n",
    "rmsle_np(y_pred_train[:10000], y_train[:10000])"
   ]
  },
  {
   "cell_type": "code",
   "execution_count": null,
   "metadata": {
    "collapsed": true
   },
   "outputs": [],
   "source": [
    "from numpy import array\n",
    "y_train = array(y_train)"
   ]
  },
  {
   "cell_type": "code",
   "execution_count": null,
   "metadata": {
    "collapsed": true
   },
   "outputs": [],
   "source": [
    "import numpy as np\n",
    "from math import exp\n",
    "import keras.backend as K\n",
    "def rmsle(y_true, y_pred):\n",
    "    first_log = K.log(y_pred + 1.)\n",
    "    second_log = K.log(y_true + 1.)\n",
    "    return (K.mean(K.square(first_log - second_log)))**0.5\n",
    "\n"
   ]
  },
  {
   "cell_type": "code",
   "execution_count": null,
   "metadata": {
    "collapsed": true
   },
   "outputs": [],
   "source": [
    "# 0.26 mse ==> 0.4646 rmsle \n",
    "from numpy import vstack\n",
    "y_pred = vstack((y_pred_test, y_pred_train))\n",
    "y_true = hstack((y_test, y_train))\n",
    "print(str(rmsle(y_train, y_pred_train)))\n",
    "print(str(rmsle(y_test, y_pred_test)))"
   ]
  },
  {
   "cell_type": "code",
   "execution_count": null,
   "metadata": {
    "collapsed": true
   },
   "outputs": [],
   "source": [
    "from sklearn.model_selection import KFold\n",
    "import numpy\n",
    "from sklearn.pipeline import Pipeline\n",
    "from sklearn.model_selection import cross_val_score\n",
    "# fix random seed for reproducibility\n",
    "\n",
    "seed = 7\n",
    "numpy.random.seed(seed)\n",
    "# evaluate model with standardized dataset\n",
    "estimators = []\n",
    "estimators.append(('standardize', StandardScaler()))\n",
    "estimators.append(('mlp', KerasRegressor(build_fn=baseline_model, epochs=200, batch_size=500)))\n",
    "pipeline = Pipeline(estimators)\n",
    "kfold = KFold(n_splits=2, random_state=seed)\n",
    "results = cross_val_score(pipeline, X, y, cv=kfold)\n",
    "print(\"Standardized: %.2f (%.2f) MSLE\" % (results.mean(), results.std()))"
   ]
  },
  {
   "cell_type": "code",
   "execution_count": null,
   "metadata": {
    "collapsed": true
   },
   "outputs": [],
   "source": [
    "def rmsle_np(h, y): \n",
    "    \"\"\"\n",
    "    Compute the Root Mean Squared Log Error for hypthesis h and targets y\n",
    "    \n",
    "    Args:\n",
    "        h - numpy array containing predictions with shape (n_samples, n_targets)\n",
    "        y - numpy array containing targets with shape (n_samples, n_targets)\n",
    "    \"\"\"\n",
    "    return np.sqrt(np.square(np.log(h + 1) - np.log(y + 1)).mean())\n",
    "rmsle_np(y_pred_train, y_test)"
   ]
  },
  {
   "cell_type": "code",
   "execution_count": null,
   "metadata": {
    "collapsed": true,
    "scrolled": true
   },
   "outputs": [],
   "source": [
    "# Adding the input layer and the hidden layer with Dropout\n",
    "# number of nodes in hidden layers or the output of the input layer is taken as the avg of 11 and 1\n",
    "classifier.add(Dense(units =6, init = 'uniform', activation = 'relu', input_dim = 11))\n",
    "classifier.add(Dropout(p = 0.1))\n",
    "classifier.add(Dense(units  =6, init = 'uniform', activation = 'relu'))\n",
    "classifier.add(Dropout(p = 0.1))\n",
    "# choose softmax instead of sigmoid when there are 3 possible output \n",
    "# Also output_dim = 3 in that case.\n",
    "classifier.add(Dense(units =1, init = 'uniform', activation = 'sigmoid'))\n",
    "\n",
    "#compiling the network\n",
    "classifier.compile(optimizer='adam', loss='binary_crossentropy', metrics = ['accuracy'])\n",
    "\n",
    "# fitting the Model\n",
    "classifier.fit(X_train, y_train, batch_size=10, epochs=100)\n",
    "\n",
    "#save the model\n",
    "classifier.save('banking.h5')\n",
    "classifier.save_weights('banking_weights.h5')\n",
    "\n",
    "#test run\n",
    "classifier1 = load_model('banking.h5')\n",
    "yaml_string = classifier1.to_yaml()\n",
    "json_string = classifier1.to_json()"
   ]
  },
  {
   "cell_type": "code",
   "execution_count": null,
   "metadata": {
    "collapsed": true
   },
   "outputs": [],
   "source": []
  },
  {
   "cell_type": "code",
   "execution_count": null,
   "metadata": {
    "collapsed": true
   },
   "outputs": [],
   "source": [
    "X_test[1]"
   ]
  },
  {
   "cell_type": "code",
   "execution_count": null,
   "metadata": {
    "collapsed": true
   },
   "outputs": [],
   "source": [
    "y_pred = classifier1.predict(X_test)"
   ]
  },
  {
   "cell_type": "code",
   "execution_count": null,
   "metadata": {
    "collapsed": true
   },
   "outputs": [],
   "source": [
    "y_pred = (y_pred>0.5)"
   ]
  },
  {
   "cell_type": "code",
   "execution_count": null,
   "metadata": {
    "collapsed": true
   },
   "outputs": [],
   "source": [
    "#confusion matrix\n",
    "from sklearn.metrics import confusion_matrix\n",
    "cm = confusion_matrix(y_test, y_pred)"
   ]
  },
  {
   "cell_type": "code",
   "execution_count": null,
   "metadata": {
    "collapsed": true
   },
   "outputs": [],
   "source": [
    "# new customer prediction\n",
    "classifier1.predict(sc.transform(numpy.array([[0,0, 600, 1, 40, 3,  60000, 2, 1, 1, 50000]])))"
   ]
  },
  {
   "cell_type": "code",
   "execution_count": null,
   "metadata": {
    "collapsed": true
   },
   "outputs": [],
   "source": [
    "from keras.layers import Dropout"
   ]
  },
  {
   "cell_type": "code",
   "execution_count": null,
   "metadata": {
    "collapsed": true
   },
   "outputs": [],
   "source": []
  }
 ],
 "metadata": {
  "kernelspec": {
   "display_name": "Python 3",
   "language": "python",
   "name": "python3"
  },
  "language_info": {
   "codemirror_mode": {
    "name": "ipython",
    "version": 3
   },
   "file_extension": ".py",
   "mimetype": "text/x-python",
   "name": "python",
   "nbconvert_exporter": "python",
   "pygments_lexer": "ipython3",
   "version": "3.6.2"
  }
 },
 "nbformat": 4,
 "nbformat_minor": 2
}
